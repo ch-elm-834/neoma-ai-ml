{
 "cells": [
  {
   "cell_type": "markdown",
   "id": "b2e1ac6b",
   "metadata": {},
   "source": [
    "# Étude de cas : Prédiction des maladies cardiaques\n",
    "Ce notebook explore un jeu de données simulé inspiré du dataset Kaggle *Heart Disease UCI*. L'objectif est de construire un modèle de machine learning pour prédire si une personne est atteinte d'une maladie cardiaque (classification binaire)."
   ]
  },
  {
   "cell_type": "markdown",
   "id": "d82cb9b8",
   "metadata": {},
   "source": [
    "## 1. Chargement des données"
   ]
  },
  {
   "cell_type": "code",
   "execution_count": null,
   "id": "d0d0e46a",
   "metadata": {},
   "outputs": [],
   "source": [
    "import pandas as pd\n",
    "\n",
    "# Chargement du jeu de données simulé\n",
    "df = pd.DataFrame({\n",
    "    'Age': [40, 49, 37, 48, 61, 60, 58, 50, 45, 39],\n",
    "    'Sex': [1, 0, 1, 1, 0, 1, 0, 1, 1, 0],\n",
    "    'ChestPainType': ['ATA', 'NAP', 'ASY', 'NAP', 'ATA', 'TA', 'ASY', 'ATA', 'NAP', 'NAP'],\n",
    "    'RestingBP': [140, 130, 120, 110, 150, 140, 135, 128, 132, 130],\n",
    "    'Cholesterol': [289, 250, 240, 230, 300, 280, 310, 270, 260, 245],\n",
    "    'FastingBS': [0, 0, 0, 1, 1, 0, 1, 0, 1, 0],\n",
    "    'RestingECG': ['Normal', 'ST', 'LVH', 'Normal', 'LVH', 'Normal', 'ST', 'LVH', 'ST', 'Normal'],\n",
    "    'MaxHR': [172, 160, 150, 165, 140, 135, 128, 155, 148, 162],\n",
    "    'ExerciseAngina': ['N', 'Y', 'Y', 'N', 'Y', 'Y', 'N', 'N', 'Y', 'N'],\n",
    "    'Oldpeak': [0.0, 1.5, 2.3, 0.6, 1.4, 2.0, 0.5, 0.3, 1.2, 0.0],\n",
    "    'ST_Slope': ['Up', 'Flat', 'Down', 'Up', 'Flat', 'Down', 'Up', 'Flat', 'Flat', 'Up'],\n",
    "    'HeartDisease': [0, 1, 1, 0, 1, 1, 0, 0, 1, 0]\n",
    "})\n",
    "df.head()"
   ]
  },
  {
   "cell_type": "markdown",
   "id": "d80adfcd",
   "metadata": {},
   "source": [
    "## 2. Prétraitement des données"
   ]
  },
  {
   "cell_type": "code",
   "execution_count": null,
   "id": "f4e44ed3",
   "metadata": {},
   "outputs": [],
   "source": [
    "from sklearn.model_selection import train_test_split\n",
    "from sklearn.preprocessing import StandardScaler, OneHotEncoder\n",
    "from sklearn.compose import ColumnTransformer\n",
    "from sklearn.pipeline import Pipeline\n",
    "from sklearn.ensemble import RandomForestClassifier\n",
    "from sklearn.metrics import classification_report\n",
    "\n",
    "# Séparation des features et de la cible\n",
    "X = df.drop('HeartDisease', axis=1)\n",
    "y = df['HeartDisease']\n",
    "\n",
    "# Colonnes numériques et catégorielles\n",
    "num_cols = ['Age', 'RestingBP', 'Cholesterol', 'MaxHR', 'Oldpeak']\n",
    "cat_cols = ['Sex', 'ChestPainType', 'FastingBS', 'RestingECG', 'ExerciseAngina', 'ST_Slope']"
   ]
  },
  {
   "cell_type": "markdown",
   "id": "85867401",
   "metadata": {},
   "source": [
    "## 3. Construction du pipeline"
   ]
  },
  {
   "cell_type": "code",
   "execution_count": null,
   "id": "4463c4c4",
   "metadata": {},
   "outputs": [],
   "source": [
    "# Préprocesseurs\n",
    "numeric_transformer = StandardScaler()\n",
    "categorical_transformer = OneHotEncoder(handle_unknown='ignore')\n",
    "\n",
    "preprocessor = ColumnTransformer([\n",
    "    ('num', numeric_transformer, num_cols),\n",
    "    ('cat', categorical_transformer, cat_cols)\n",
    "])\n",
    "\n",
    "# Pipeline complet\n",
    "pipeline = Pipeline([\n",
    "    ('preprocess', preprocessor),\n",
    "    ('classifier', RandomForestClassifier(random_state=42))\n",
    "])"
   ]
  },
  {
   "cell_type": "markdown",
   "id": "35414b5d",
   "metadata": {},
   "source": [
    "## 4. Entraînement et évaluation du modèle"
   ]
  },
  {
   "cell_type": "code",
   "execution_count": null,
   "id": "27359f4a",
   "metadata": {},
   "outputs": [],
   "source": [
    "# Séparation entraînement/test\n",
    "X_train, X_test, y_train, y_test = train_test_split(X, y, test_size=0.2, random_state=42)\n",
    "\n",
    "# Entraînement\n",
    "pipeline.fit(X_train, y_train)\n",
    "\n",
    "# Prédictions et rapport\n",
    "y_pred = pipeline.predict(X_test)\n",
    "print(classification_report(y_test, y_pred))"
   ]
  },
  {
   "cell_type": "markdown",
   "id": "f1719e03",
   "metadata": {},
   "source": [
    "## 5. Comparaison avec un autre modèle : Support Vector Machine"
   ]
  },
  {
   "cell_type": "code",
   "execution_count": null,
   "id": "2b2133af",
   "metadata": {},
   "outputs": [],
   "source": [
    "from sklearn.svm import SVC\n",
    "from sklearn.pipeline import make_pipeline\n",
    "\n",
    "# Nouveau pipeline avec SVM\n",
    "pipeline_svm = Pipeline([\n",
    "    ('preprocess', preprocessor),\n",
    "    ('classifier', SVC(kernel='rbf', probability=True, random_state=42))\n",
    "])\n",
    "\n",
    "# Entraînement\n",
    "pipeline_svm.fit(X_train, y_train)\n",
    "y_pred_svm = pipeline_svm.predict(X_test)\n",
    "print(\"Rapport de classification pour le modèle SVM :\")\n",
    "print(classification_report(y_test, y_pred_svm))"
   ]
  },
  {
   "cell_type": "markdown",
   "id": "be061346",
   "metadata": {},
   "source": [
    "## 6. Résumé de la comparaison"
   ]
  },
  {
   "cell_type": "code",
   "execution_count": null,
   "id": "0d668258",
   "metadata": {},
   "outputs": [],
   "source": [
    "from sklearn.metrics import accuracy_score\n",
    "\n",
    "acc_rf = accuracy_score(y_test, y_pred)\n",
    "acc_svm = accuracy_score(y_test, y_pred_svm)\n",
    "\n",
    "print(f\"Exactitude Random Forest : {acc_rf:.2f}\")\n",
    "print(f\"Exactitude SVM            : {acc_svm:.2f}\")\n",
    "\n",
    "if acc_rf > acc_svm:\n",
    "    print(\"✅ Le modèle Random Forest a donné de meilleurs résultats.\")\n",
    "elif acc_rf < acc_svm:\n",
    "    print(\"✅ Le modèle SVM a donné de meilleurs résultats.\")\n",
    "else:\n",
    "    print(\"🔍 Les deux modèles ont donné la même exactitude.\")"
   ]
  }
 ],
 "metadata": {
  "language": "python"
 },
 "nbformat": 4,
 "nbformat_minor": 5
}
