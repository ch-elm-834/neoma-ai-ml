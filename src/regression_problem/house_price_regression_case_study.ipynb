{
 "cells": [
  {
   "cell_type": "markdown",
   "id": "684c1483",
   "metadata": {},
   "source": [
    "# Étude de cas : Régression - Prédiction du prix de maisons"
   ]
  },
  {
   "cell_type": "markdown",
   "id": "3430a426",
   "metadata": {},
   "source": [
    "## 1. Chargement et aperçu des données"
   ]
  },
  {
   "cell_type": "code",
   "execution_count": null,
   "id": "a694eb40",
   "metadata": {},
   "outputs": [],
   "source": [
    "import pandas as pd\n",
    "import matplotlib.pyplot as plt\n",
    "import seaborn as sns\n",
    "\n",
    "# Chargement du dataset simulé\n",
    "df = pd.DataFrame({\n",
    "    'LotArea': [8450, 9600, 11250, 9550, 14260, 14115, 10084, 10382, 6120, 7420],\n",
    "    'OverallQual': [7, 6, 7, 7, 8, 5, 8, 7, 7, 5],\n",
    "    'OverallCond': [5, 8, 5, 5, 5, 5, 5, 5, 6, 6],\n",
    "    'YearBuilt': [2003, 1976, 2001, 1915, 2000, 1993, 2004, 1973, 1931, 1939],\n",
    "    'GrLivArea': [1710, 1262, 1786, 1717, 2198, 1362, 1694, 2090, 1774, 1077],\n",
    "    'FullBath': [2, 2, 2, 1, 2, 2, 2, 1, 1, 1],\n",
    "    'GarageCars': [2, 2, 2, 3, 3, 2, 3, 2, 2, 1],\n",
    "    'GarageArea': [548, 460, 608, 642, 836, 480, 636, 484, 468, 205],\n",
    "    'SalePrice': [208500, 181500, 223500, 140000, 250000, 143000, 307000, 200000, 129900, 118000]\n",
    "})\n",
    "df.head()"
   ]
  },
  {
   "cell_type": "markdown",
   "id": "61f99493",
   "metadata": {},
   "source": [
    "## 2. Exploration et corrélation"
   ]
  },
  {
   "cell_type": "code",
   "execution_count": null,
   "id": "4475deff",
   "metadata": {},
   "outputs": [],
   "source": [
    "# Matrice de corrélation\n",
    "plt.figure(figsize=(10, 8))\n",
    "corr = df.corr(numeric_only=True)\n",
    "sns.heatmap(corr, annot=True, cmap='coolwarm')\n",
    "plt.title('Matrice de corrélation')\n",
    "plt.show()"
   ]
  },
  {
   "cell_type": "markdown",
   "id": "6b76fd51",
   "metadata": {},
   "source": [
    "## 3. Prétraitement et séparation des données"
   ]
  },
  {
   "cell_type": "code",
   "execution_count": null,
   "id": "1362c8dd",
   "metadata": {},
   "outputs": [],
   "source": [
    "from sklearn.model_selection import train_test_split\n",
    "from sklearn.preprocessing import StandardScaler\n",
    "\n",
    "X = df.drop('SalePrice', axis=1)\n",
    "y = df['SalePrice']\n",
    "\n",
    "# Normalisation\n",
    "scaler = StandardScaler()\n",
    "X_scaled = scaler.fit_transform(X)\n",
    "\n",
    "# Split\n",
    "X_train, X_test, y_train, y_test = train_test_split(X_scaled, y, test_size=0.2, random_state=42)"
   ]
  },
  {
   "cell_type": "markdown",
   "id": "eb1fd2b3",
   "metadata": {},
   "source": [
    "## 4. Entraînement du modèle de régression"
   ]
  },
  {
   "cell_type": "code",
   "execution_count": null,
   "id": "ca23f237",
   "metadata": {},
   "outputs": [],
   "source": [
    "from sklearn.linear_model import LinearRegression\n",
    "\n",
    "model = LinearRegression()\n",
    "model.fit(X_train, y_train)\n",
    "\n",
    "y_pred = model.predict(X_test)"
   ]
  },
  {
   "cell_type": "markdown",
   "id": "63bf2a55",
   "metadata": {},
   "source": [
    "## 5. Évaluation du modèle"
   ]
  },
  {
   "cell_type": "code",
   "execution_count": null,
   "id": "b1d95bae",
   "metadata": {},
   "outputs": [],
   "source": [
    "from sklearn.metrics import mean_absolute_error, mean_squared_error, r2_score\n",
    "\n",
    "mae = mean_absolute_error(y_test, y_pred)\n",
    "mse = mean_squared_error(y_test, y_pred)\n",
    "r2 = r2_score(y_test, y_pred)\n",
    "\n",
    "print(f\"MAE : {mae:.2f}\")\n",
    "print(f\"MSE : {mse:.2f}\")\n",
    "print(f\"R2 Score : {r2:.2f}\")"
   ]
  }
 ],
 "metadata": {
  "language": "python"
 },
 "nbformat": 4,
 "nbformat_minor": 5
}
